{
 "cells": [
  {
   "cell_type": "code",
   "id": "initial_id",
   "metadata": {
    "collapsed": true,
    "ExecuteTime": {
     "end_time": "2024-08-07T07:22:06.706913Z",
     "start_time": "2024-08-07T07:22:06.698429Z"
    }
   },
   "source": [
    "import numpy as np\n",
    "import pandas as pd\n",
    "import matplotlib.pyplot as plt\n",
    "from sklearn.datasets import make_blobs\n",
    "from sklearn.decomposition import PCA, NMF\n",
    "import os\n",
    "%matplotlib inline"
   ],
   "outputs": [],
   "execution_count": 10
  },
  {
   "metadata": {
    "ExecuteTime": {
     "end_time": "2024-08-07T07:24:16.461118Z",
     "start_time": "2024-08-07T07:24:15.941013Z"
    }
   },
   "cell_type": "code",
   "source": "df = pd.read_csv(' https://raw.githubusercontent.com/stefannae/SIC-Artificial-Intelligence/main/SIC_AI_Coding_Exercises/SIC_AI_Chapter_05_Coding_Exercises/data_number_nine.csv', header='infer')",
   "id": "297acda67c154b72",
   "outputs": [],
   "execution_count": 22
  },
  {
   "metadata": {
    "ExecuteTime": {
     "end_time": "2024-08-07T07:24:46.026791Z",
     "start_time": "2024-08-07T07:24:46.018261Z"
    }
   },
   "cell_type": "code",
   "source": "df.shape",
   "id": "afe08b6ade212948",
   "outputs": [
    {
     "data": {
      "text/plain": [
       "(23, 23)"
      ]
     },
     "execution_count": 23,
     "metadata": {},
     "output_type": "execute_result"
    }
   ],
   "execution_count": 23
  },
  {
   "metadata": {
    "ExecuteTime": {
     "end_time": "2024-08-07T07:24:52.553898Z",
     "start_time": "2024-08-07T07:24:52.514423Z"
    }
   },
   "cell_type": "code",
   "source": "df.head(5)",
   "id": "bc7f031b46f7f809",
   "outputs": [
    {
     "data": {
      "text/plain": [
       "      X1     X2     X3     X4     X5     X6      X7     X8      X9     X10  \\\n",
       "0  0.006  0.006  0.006  0.005  0.005  0.005  0.0050  0.005  0.0050  0.0050   \n",
       "1  0.005  0.005  0.005  0.005  0.005  0.005  0.0050  0.005  0.0050  0.0050   \n",
       "2  0.005  0.005  0.005  0.005  0.005  0.005  0.0050  0.005  0.0050  0.0050   \n",
       "3  0.005  0.005  0.005  0.005  0.005  0.005  0.0050  0.005  0.1797  0.5951   \n",
       "4  0.005  0.005  0.005  0.005  0.005  0.005  0.1836  0.599  0.9368  0.9911   \n",
       "\n",
       "   ...     X14     X15     X16     X17     X18     X19     X20    X21    X22  \\\n",
       "0  ...  0.0050  0.0050  0.0050  0.0050  0.0050  0.0050  0.0050  0.005  0.006   \n",
       "1  ...  0.0050  0.0050  0.0050  0.0050  0.0050  0.0050  0.0050  0.005  0.005   \n",
       "2  ...  0.7854  0.7776  0.3738  0.1486  0.0050  0.0050  0.0050  0.005  0.005   \n",
       "3  ...  0.9911  0.9911  0.9911  0.9756  0.8242  0.5912  0.0283  0.005  0.005   \n",
       "4  ...  0.5214  0.6099  0.7815  0.9911  0.8941  0.8785  0.4088  0.005  0.005   \n",
       "\n",
       "     X23  \n",
       "0  0.006  \n",
       "1  0.005  \n",
       "2  0.005  \n",
       "3  0.005  \n",
       "4  0.005  \n",
       "\n",
       "[5 rows x 23 columns]"
      ],
      "text/html": [
       "<div>\n",
       "<style scoped>\n",
       "    .dataframe tbody tr th:only-of-type {\n",
       "        vertical-align: middle;\n",
       "    }\n",
       "\n",
       "    .dataframe tbody tr th {\n",
       "        vertical-align: top;\n",
       "    }\n",
       "\n",
       "    .dataframe thead th {\n",
       "        text-align: right;\n",
       "    }\n",
       "</style>\n",
       "<table border=\"1\" class=\"dataframe\">\n",
       "  <thead>\n",
       "    <tr style=\"text-align: right;\">\n",
       "      <th></th>\n",
       "      <th>X1</th>\n",
       "      <th>X2</th>\n",
       "      <th>X3</th>\n",
       "      <th>X4</th>\n",
       "      <th>X5</th>\n",
       "      <th>X6</th>\n",
       "      <th>X7</th>\n",
       "      <th>X8</th>\n",
       "      <th>X9</th>\n",
       "      <th>X10</th>\n",
       "      <th>...</th>\n",
       "      <th>X14</th>\n",
       "      <th>X15</th>\n",
       "      <th>X16</th>\n",
       "      <th>X17</th>\n",
       "      <th>X18</th>\n",
       "      <th>X19</th>\n",
       "      <th>X20</th>\n",
       "      <th>X21</th>\n",
       "      <th>X22</th>\n",
       "      <th>X23</th>\n",
       "    </tr>\n",
       "  </thead>\n",
       "  <tbody>\n",
       "    <tr>\n",
       "      <th>0</th>\n",
       "      <td>0.006</td>\n",
       "      <td>0.006</td>\n",
       "      <td>0.006</td>\n",
       "      <td>0.005</td>\n",
       "      <td>0.005</td>\n",
       "      <td>0.005</td>\n",
       "      <td>0.0050</td>\n",
       "      <td>0.005</td>\n",
       "      <td>0.0050</td>\n",
       "      <td>0.0050</td>\n",
       "      <td>...</td>\n",
       "      <td>0.0050</td>\n",
       "      <td>0.0050</td>\n",
       "      <td>0.0050</td>\n",
       "      <td>0.0050</td>\n",
       "      <td>0.0050</td>\n",
       "      <td>0.0050</td>\n",
       "      <td>0.0050</td>\n",
       "      <td>0.005</td>\n",
       "      <td>0.006</td>\n",
       "      <td>0.006</td>\n",
       "    </tr>\n",
       "    <tr>\n",
       "      <th>1</th>\n",
       "      <td>0.005</td>\n",
       "      <td>0.005</td>\n",
       "      <td>0.005</td>\n",
       "      <td>0.005</td>\n",
       "      <td>0.005</td>\n",
       "      <td>0.005</td>\n",
       "      <td>0.0050</td>\n",
       "      <td>0.005</td>\n",
       "      <td>0.0050</td>\n",
       "      <td>0.0050</td>\n",
       "      <td>...</td>\n",
       "      <td>0.0050</td>\n",
       "      <td>0.0050</td>\n",
       "      <td>0.0050</td>\n",
       "      <td>0.0050</td>\n",
       "      <td>0.0050</td>\n",
       "      <td>0.0050</td>\n",
       "      <td>0.0050</td>\n",
       "      <td>0.005</td>\n",
       "      <td>0.005</td>\n",
       "      <td>0.005</td>\n",
       "    </tr>\n",
       "    <tr>\n",
       "      <th>2</th>\n",
       "      <td>0.005</td>\n",
       "      <td>0.005</td>\n",
       "      <td>0.005</td>\n",
       "      <td>0.005</td>\n",
       "      <td>0.005</td>\n",
       "      <td>0.005</td>\n",
       "      <td>0.0050</td>\n",
       "      <td>0.005</td>\n",
       "      <td>0.0050</td>\n",
       "      <td>0.0050</td>\n",
       "      <td>...</td>\n",
       "      <td>0.7854</td>\n",
       "      <td>0.7776</td>\n",
       "      <td>0.3738</td>\n",
       "      <td>0.1486</td>\n",
       "      <td>0.0050</td>\n",
       "      <td>0.0050</td>\n",
       "      <td>0.0050</td>\n",
       "      <td>0.005</td>\n",
       "      <td>0.005</td>\n",
       "      <td>0.005</td>\n",
       "    </tr>\n",
       "    <tr>\n",
       "      <th>3</th>\n",
       "      <td>0.005</td>\n",
       "      <td>0.005</td>\n",
       "      <td>0.005</td>\n",
       "      <td>0.005</td>\n",
       "      <td>0.005</td>\n",
       "      <td>0.005</td>\n",
       "      <td>0.0050</td>\n",
       "      <td>0.005</td>\n",
       "      <td>0.1797</td>\n",
       "      <td>0.5951</td>\n",
       "      <td>...</td>\n",
       "      <td>0.9911</td>\n",
       "      <td>0.9911</td>\n",
       "      <td>0.9911</td>\n",
       "      <td>0.9756</td>\n",
       "      <td>0.8242</td>\n",
       "      <td>0.5912</td>\n",
       "      <td>0.0283</td>\n",
       "      <td>0.005</td>\n",
       "      <td>0.005</td>\n",
       "      <td>0.005</td>\n",
       "    </tr>\n",
       "    <tr>\n",
       "      <th>4</th>\n",
       "      <td>0.005</td>\n",
       "      <td>0.005</td>\n",
       "      <td>0.005</td>\n",
       "      <td>0.005</td>\n",
       "      <td>0.005</td>\n",
       "      <td>0.005</td>\n",
       "      <td>0.1836</td>\n",
       "      <td>0.599</td>\n",
       "      <td>0.9368</td>\n",
       "      <td>0.9911</td>\n",
       "      <td>...</td>\n",
       "      <td>0.5214</td>\n",
       "      <td>0.6099</td>\n",
       "      <td>0.7815</td>\n",
       "      <td>0.9911</td>\n",
       "      <td>0.8941</td>\n",
       "      <td>0.8785</td>\n",
       "      <td>0.4088</td>\n",
       "      <td>0.005</td>\n",
       "      <td>0.005</td>\n",
       "      <td>0.005</td>\n",
       "    </tr>\n",
       "  </tbody>\n",
       "</table>\n",
       "<p>5 rows × 23 columns</p>\n",
       "</div>"
      ]
     },
     "execution_count": 24,
     "metadata": {},
     "output_type": "execute_result"
    }
   ],
   "execution_count": 24
  },
  {
   "metadata": {
    "ExecuteTime": {
     "end_time": "2024-08-07T07:25:55.828196Z",
     "start_time": "2024-08-07T07:25:55.821154Z"
    }
   },
   "cell_type": "code",
   "source": [
    "def ShowMe(X):\n",
    "        Y=1.0-X\n",
    "        plt.imshow(Y,cmap='gray')\n",
    "        plt.show()"
   ],
   "id": "c92abd7c59664460",
   "outputs": [],
   "execution_count": 25
  },
  {
   "metadata": {
    "ExecuteTime": {
     "end_time": "2024-08-07T07:26:21.710074Z",
     "start_time": "2024-08-07T07:26:21.344038Z"
    }
   },
   "cell_type": "code",
   "source": [
    "X = np.array(df)\n",
    "ShowMe(X)"
   ],
   "id": "c989308c5166d8c5",
   "outputs": [
    {
     "data": {
      "text/plain": [
       "<Figure size 640x480 with 1 Axes>"
      ],
      "image/png": "[encoded data removed]"
     },
     "metadata": {},
     "output_type": "display_data"
    }
   ],
   "execution_count": 26
  },
  {
   "metadata": {
    "ExecuteTime": {
     "end_time": "2024-08-07T07:28:35.197221Z",
     "start_time": "2024-08-07T07:28:35.191182Z"
    }
   },
   "cell_type": "code",
   "source": [
    "def reduceInputPCA(X,nPC):\n",
    "    pca = PCA(n_components=nPC)\n",
    "    X_pca = pca.fit_transform(X)\n",
    "    return pca.inverse_transform(X_pca)"
   ],
   "id": "8a5f74e5701a781c",
   "outputs": [],
   "execution_count": 27
  },
  {
   "metadata": {
    "ExecuteTime": {
     "end_time": "2024-08-07T07:29:25.314461Z",
     "start_time": "2024-08-07T07:29:23.925397Z"
    }
   },
   "cell_type": "code",
   "source": [
    "for nPC in [23,10,5,3,1]:\n",
    "    Z=reduceInputPCA(X,nPC)\n",
    "    print(nPC)\n",
    "    ShowMe(Z)"
   ],
   "id": "15036c0121b58373",
   "outputs": [
    {
     "name": "stdout",
     "output_type": "stream",
     "text": [
      "23\n"
     ]
    },
    {
     "data": {
      "text/plain": [
       "<Figure size 640x480 with 1 Axes>"
      ],
      "image/png": "[encoded data removed]"
     },
     "metadata": {},
     "output_type": "display_data"
    },
    {
     "name": "stdout",
     "output_type": "stream",
     "text": [
      "10\n"
     ]
    },
    {
     "data": {
      "text/plain": [
       "<Figure size 640x480 with 1 Axes>"
      ],
      "image/png": "[encoded data removed]"
     },
     "metadata": {},
     "output_type": "display_data"
    },
    {
     "name": "stdout",
     "output_type": "stream",
     "text": [
      "5\n"
     ]
    },
    {
     "data": {
      "text/plain": [
       "<Figure size 640x480 with 1 Axes>"
      ],
      "image/png": "[encoded data removed]"
     },
     "metadata": {},
     "output_type": "display_data"
    },
    {
     "name": "stdout",
     "output_type": "stream",
     "text": [
      "3\n"
     ]
    },
    {
     "data": {
      "text/plain": [
       "<Figure size 640x480 with 1 Axes>"
      ],
      "image/png": "[encoded data removed]"
     },
     "metadata": {},
     "output_type": "display_data"
    },
    {
     "name": "stdout",
     "output_type": "stream",
     "text": [
      "1\n"
     ]
    },
    {
     "data": {
      "text/plain": [
       "<Figure size 640x480 with 1 Axes>"
      ],
      "image/png": "[encoded data removed]"
     },
     "metadata": {},
     "output_type": "display_data"
    }
   ],
   "execution_count": 28
  },
  {
   "metadata": {},
   "cell_type": "code",
   "outputs": [],
   "execution_count": null,
   "source": "",
   "id": "d63e9c2db12aa015"
  }
 ],
 "metadata": {
  "kernelspec": {
   "display_name": "Python 3",
   "language": "python",
   "name": "python3"
  },
  "language_info": {
   "codemirror_mode": {
    "name": "ipython",
    "version": 2
   },
   "file_extension": ".py",
   "mimetype": "text/x-python",
   "name": "python",
   "nbconvert_exporter": "python",
   "pygments_lexer": "ipython2",
   "version": "2.7.6"
  }
 },
 "nbformat": 4,
 "nbformat_minor": 5
}
